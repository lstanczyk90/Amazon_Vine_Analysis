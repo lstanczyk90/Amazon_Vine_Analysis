{
  "nbformat": 4,
  "nbformat_minor": 0,
  "metadata": {
    "colab": {
      "name": "Vine_Review_Analysis.ipynb",
      "provenance": [],
      "collapsed_sections": []
    },
    "kernelspec": {
      "name": "python3",
      "display_name": "Python 3"
    },
    "language_info": {
      "name": "python"
    }
  },
  "cells": [
    {
      "cell_type": "code",
      "metadata": {
        "colab": {
          "base_uri": "https://localhost:8080/"
        },
        "id": "3_v5HqWeMsUr",
        "outputId": "95dca176-c58e-4586-f255-827cc87790b6"
      },
      "source": [
        "import os\n",
        "# Find the latest version of spark 3.0 from http://www.apache.org/dist/spark/ and enter as the spark version\n",
        "# For example:\n",
        "# spark_version = 'spark-3.0.3'\n",
        "spark_version = 'spark-3.0.3'\n",
        "os.environ['SPARK_VERSION']=spark_version\n",
        "\n",
        "# Install Spark and Java\n",
        "!apt-get update\n",
        "!apt-get install openjdk-11-jdk-headless -qq > /dev/null\n",
        "!wget -q http://www.apache.org/dist/spark/$SPARK_VERSION/$SPARK_VERSION-bin-hadoop2.7.tgz\n",
        "!tar xf $SPARK_VERSION-bin-hadoop2.7.tgz\n",
        "!pip install -q findspark\n",
        "\n",
        "# Set Environment Variables\n",
        "import os\n",
        "os.environ[\"JAVA_HOME\"] = \"/usr/lib/jvm/java-11-openjdk-amd64\"\n",
        "os.environ[\"SPARK_HOME\"] = f\"/content/{spark_version}-bin-hadoop2.7\"\n",
        "\n",
        "# Start a SparkSession\n",
        "import findspark\n",
        "findspark.init()"
      ],
      "execution_count": 1,
      "outputs": [
        {
          "output_type": "stream",
          "name": "stdout",
          "text": [
            "\r0% [Working]\r            \rGet:1 http://security.ubuntu.com/ubuntu bionic-security InRelease [88.7 kB]\n",
            "Get:2 https://cloud.r-project.org/bin/linux/ubuntu bionic-cran40/ InRelease [3,626 B]\n",
            "Ign:3 https://developer.download.nvidia.com/compute/cuda/repos/ubuntu1804/x86_64  InRelease\n",
            "Ign:4 https://developer.download.nvidia.com/compute/machine-learning/repos/ubuntu1804/x86_64  InRelease\n",
            "Get:5 https://developer.download.nvidia.com/compute/cuda/repos/ubuntu1804/x86_64  Release [696 B]\n",
            "Get:6 http://ppa.launchpad.net/c2d4u.team/c2d4u4.0+/ubuntu bionic InRelease [15.9 kB]\n",
            "Hit:7 https://developer.download.nvidia.com/compute/machine-learning/repos/ubuntu1804/x86_64  Release\n",
            "Get:8 https://developer.download.nvidia.com/compute/cuda/repos/ubuntu1804/x86_64  Release.gpg [836 B]\n",
            "Hit:9 http://archive.ubuntu.com/ubuntu bionic InRelease\n",
            "Get:10 http://archive.ubuntu.com/ubuntu bionic-updates InRelease [88.7 kB]\n",
            "Hit:11 http://ppa.launchpad.net/cran/libgit2/ubuntu bionic InRelease\n",
            "Get:12 http://archive.ubuntu.com/ubuntu bionic-backports InRelease [74.6 kB]\n",
            "Hit:13 http://ppa.launchpad.net/deadsnakes/ppa/ubuntu bionic InRelease\n",
            "Get:14 http://security.ubuntu.com/ubuntu bionic-security/main amd64 Packages [2,461 kB]\n",
            "Get:15 http://ppa.launchpad.net/graphics-drivers/ppa/ubuntu bionic InRelease [21.3 kB]\n",
            "Get:16 http://security.ubuntu.com/ubuntu bionic-security/restricted amd64 Packages [691 kB]\n",
            "Get:17 http://security.ubuntu.com/ubuntu bionic-security/universe amd64 Packages [1,444 kB]\n",
            "Get:19 https://developer.download.nvidia.com/compute/cuda/repos/ubuntu1804/x86_64  Packages [829 kB]\n",
            "Get:20 http://ppa.launchpad.net/c2d4u.team/c2d4u4.0+/ubuntu bionic/main Sources [1,813 kB]\n",
            "Get:21 http://archive.ubuntu.com/ubuntu bionic-updates/main amd64 Packages [2,898 kB]\n",
            "Get:22 http://archive.ubuntu.com/ubuntu bionic-updates/restricted amd64 Packages [725 kB]\n",
            "Get:23 http://archive.ubuntu.com/ubuntu bionic-updates/universe amd64 Packages [2,225 kB]\n",
            "Get:24 http://ppa.launchpad.net/c2d4u.team/c2d4u4.0+/ubuntu bionic/main amd64 Packages [930 kB]\n",
            "Get:25 http://ppa.launchpad.net/graphics-drivers/ppa/ubuntu bionic/main amd64 Packages [44.7 kB]\n",
            "Fetched 14.4 MB in 5s (2,951 kB/s)\n",
            "Reading package lists... Done\n"
          ]
        }
      ]
    },
    {
      "cell_type": "code",
      "metadata": {
        "id": "BGv0mhAUM8sm"
      },
      "source": [
        "# Initiate the Spark Session\n",
        "from pyspark.sql import SparkSession\n",
        "spark = SparkSession.builder.appName(\"VineAnalysis\").getOrCreate()"
      ],
      "execution_count": 2,
      "outputs": []
    },
    {
      "cell_type": "code",
      "metadata": {
        "colab": {
          "base_uri": "https://localhost:8080/"
        },
        "id": "mEL7zl4QNTws",
        "outputId": "28dcfb14-b5dd-45eb-b434-0928a3522fc4"
      },
      "source": [
        "from pyspark import SparkFiles\n",
        "url = \"https://s3.amazonaws.com/amazon-reviews-pds/tsv/amazon_reviews_us_PC_v1_00.tsv.gz\"\n",
        "spark.sparkContext.addFile(url)\n",
        "df = spark.read.option(\"encoding\", \"UTF-8\").csv(SparkFiles.get(\"amazon_reviews_us_PC_v1_00.tsv.gz\"), sep=\"\\t\", header=True, inferSchema=True)\n",
        "df.show()"
      ],
      "execution_count": 3,
      "outputs": [
        {
          "output_type": "stream",
          "name": "stdout",
          "text": [
            "+-----------+-----------+--------------+----------+--------------+--------------------+----------------+-----------+-------------+-----------+----+-----------------+--------------------+--------------------+-----------+\n",
            "|marketplace|customer_id|     review_id|product_id|product_parent|       product_title|product_category|star_rating|helpful_votes|total_votes|vine|verified_purchase|     review_headline|         review_body|review_date|\n",
            "+-----------+-----------+--------------+----------+--------------+--------------------+----------------+-----------+-------------+-----------+----+-----------------+--------------------+--------------------+-----------+\n",
            "|         US|   22873041|R3ARRMDEGED8RD|B00KJWQIIC|     335625766|Plemo 14-Inch Lap...|              PC|          5|            0|          0|   N|                Y|Pleasantly surprised|I was very surpri...| 2015-08-31|\n",
            "|         US|   30088427| RQ28TSA020Y6J|B013ALA9LA|     671157305|TP-Link OnHub AC1...|              PC|          5|           24|         31|   N|                N|OnHub is a pretty...|I am a Google emp...| 2015-08-31|\n",
            "|         US|   20329786| RUXJRZCT6953M|B00PML2GQ8|     982036237|AmazonBasics USB ...|              PC|          1|            2|          2|   N|                N|None of them work...|Bought cables in ...| 2015-08-31|\n",
            "|         US|   14215710| R7EO0UO6BPB71|B001NS0OZ4|     576587596|Transcend P8 15-i...|              PC|          1|            0|          0|   N|                Y|just keep searching.|nope, cheap and slow| 2015-08-31|\n",
            "|         US|   38264512|R39NJY2YJ1JFSV|B00AQMTND2|     964759214|Aleratec SATA Dat...|              PC|          5|            0|          0|   N|                Y|          Five Stars|Excellent! Great ...| 2015-08-31|\n",
            "|         US|   30548466|R31SR7REWNX7CF|B00KX4TORI|     170101802|Kingston Digital ...|              PC|          5|            0|          0|   N|                Y|Good quality, wor...|Good quality,work...| 2015-08-31|\n",
            "|         US|     589298| RVBP8I1R0CTZ8|B00P17WEMY|     206124740|White 9 Inch Unlo...|              PC|          3|            1|          2|   N|                Y|in fact this is t...|This demn tablet ...| 2015-08-31|\n",
            "|         US|   49329488|R1QF6RS1PDLU18|B00TR05L9Y|     778403103|Lenovo TAB2 A10 -...|              PC|          4|            1|          1|   N|                Y|                Good|I am not sure I d...| 2015-08-31|\n",
            "|         US|   50728290|R23AICGEDAJQL1|B0098Y77OG|     177098042|                Acer|              PC|          1|            0|          0|   N|                Y|You get what you ...|After exactly 45 ...| 2015-08-31|\n",
            "|         US|   37802374|R2EY3N4K9W19UP|B00IFYEYXC|     602496520|AzureWave Broadco...|              PC|          5|            3|          4|   N|                Y|Great for Windows...|Replaced my Intel...| 2015-08-31|\n",
            "|         US|   52027882| RC9AW4HKJ016M|B0091ITP0S|     977217357|HDE Rotating iPad...|              PC|          1|            0|          0|   N|                Y|            One Star|IT HAS ALREADY CR...| 2015-08-31|\n",
            "|         US|   41770239|R2ALWJE9N6ZBXD|B008I21EA2|     295632907|Linksys AC1750 Wi...|              PC|          1|            0|          0|   N|                N|   Very Disappointed|Very disappointed...| 2015-08-31|\n",
            "|         US|   42560427|R2G5FPA4OX37GV|B00MRB7SBO|     922591915|iPad Pro 9.7, iPa...|              PC|          5|            1|          1|   N|                Y|          Five Stars|Works well. I use...| 2015-08-31|\n",
            "|         US|   46345923|R1IKTSEVXSIMOD|B00LLER2CS|     997551273|SanDisk 16GB CZ43...|              PC|          5|            0|          0|   N|                Y|The encryption so...|The encryption so...| 2015-08-31|\n",
            "|         US|   41751192|R2YA6G6SRFEWF6|B00B0CQCCC|     937999925|TRENDnet Wireless...|              PC|          1|            0|          1|   N|                Y|Didn't last 2 years.|I have owned this...| 2015-08-31|\n",
            "|         US|   21176481| RS9H1N9I3Z1IA|B00GU8W5AE|      13865167|Redragon M901 PER...|              PC|          5|            0|          0|   N|                Y|Awesome gaming mouse|My first gaming m...| 2015-08-31|\n",
            "|         US|   10674058| RKKLBI76VTDNT|B00XHMXJQ0|     967483469|Mudder MHL Adapte...|              PC|          1|            0|          0|   N|                Y|            One Star|I cannot get it t...| 2015-08-31|\n",
            "|         US|   43341796|R2NJ3WFUS4E5G6|B00YGJJQ6U|     986548413|Fintie iPad Air 2...|              PC|          4|            0|          0|   N|                Y|Great choices of ...|Love that Finite ...| 2015-08-31|\n",
            "|         US|   13232866|R21PTQNLGCBN0I|B00XMN20Y6|     873354048|Fintie iPad 2/3/4...|              PC|          5|            0|          0|   N|                Y|          Five Stars|Nice color, I lov...| 2015-08-31|\n",
            "|         US|   29333557|R3G4RT3EQ9RSY7|B00MA40W9I|     535866197|Egoway® New Lapto...|              PC|          1|            0|          0|   N|                Y|Totally wasted $6...|Totally wasted $6...| 2015-08-31|\n",
            "+-----------+-----------+--------------+----------+--------------+--------------------+----------------+-----------+-------------+-----------+----+-----------------+--------------------+--------------------+-----------+\n",
            "only showing top 20 rows\n",
            "\n"
          ]
        }
      ]
    },
    {
      "cell_type": "code",
      "metadata": {
        "colab": {
          "base_uri": "https://localhost:8080/"
        },
        "id": "gGqTPW6fN_2C",
        "outputId": "2524ca10-77e5-43c5-9d87-d1885489b057"
      },
      "source": [
        "# Create the vine_table DataFrame\n",
        "vine_df = df.select([\"review_id\", \"star_rating\", \"helpful_votes\", \"total_votes\", \"vine\", \"verified_purchase\"])\n",
        "vine_df.show()"
      ],
      "execution_count": 6,
      "outputs": [
        {
          "output_type": "stream",
          "name": "stdout",
          "text": [
            "+--------------+-----------+-------------+-----------+----+-----------------+\n",
            "|     review_id|star_rating|helpful_votes|total_votes|vine|verified_purchase|\n",
            "+--------------+-----------+-------------+-----------+----+-----------------+\n",
            "|R3ARRMDEGED8RD|          5|            0|          0|   N|                Y|\n",
            "| RQ28TSA020Y6J|          5|           24|         31|   N|                N|\n",
            "| RUXJRZCT6953M|          1|            2|          2|   N|                N|\n",
            "| R7EO0UO6BPB71|          1|            0|          0|   N|                Y|\n",
            "|R39NJY2YJ1JFSV|          5|            0|          0|   N|                Y|\n",
            "|R31SR7REWNX7CF|          5|            0|          0|   N|                Y|\n",
            "| RVBP8I1R0CTZ8|          3|            1|          2|   N|                Y|\n",
            "|R1QF6RS1PDLU18|          4|            1|          1|   N|                Y|\n",
            "|R23AICGEDAJQL1|          1|            0|          0|   N|                Y|\n",
            "|R2EY3N4K9W19UP|          5|            3|          4|   N|                Y|\n",
            "| RC9AW4HKJ016M|          1|            0|          0|   N|                Y|\n",
            "|R2ALWJE9N6ZBXD|          1|            0|          0|   N|                N|\n",
            "|R2G5FPA4OX37GV|          5|            1|          1|   N|                Y|\n",
            "|R1IKTSEVXSIMOD|          5|            0|          0|   N|                Y|\n",
            "|R2YA6G6SRFEWF6|          1|            0|          1|   N|                Y|\n",
            "| RS9H1N9I3Z1IA|          5|            0|          0|   N|                Y|\n",
            "| RKKLBI76VTDNT|          1|            0|          0|   N|                Y|\n",
            "|R2NJ3WFUS4E5G6|          4|            0|          0|   N|                Y|\n",
            "|R21PTQNLGCBN0I|          5|            0|          0|   N|                Y|\n",
            "|R3G4RT3EQ9RSY7|          1|            0|          0|   N|                Y|\n",
            "+--------------+-----------+-------------+-----------+----+-----------------+\n",
            "only showing top 20 rows\n",
            "\n"
          ]
        }
      ]
    },
    {
      "cell_type": "code",
      "metadata": {
        "colab": {
          "base_uri": "https://localhost:8080/"
        },
        "id": "RGwedqTBOUrt",
        "outputId": "72ee17dc-7b3e-4477-af14-8217ba0e0904"
      },
      "source": [
        "# Step 1: Filter the vine_df\n",
        "vine_df_filtered = vine_df.filter(\"total_votes>=20\")\n",
        "vine_df_filtered.show()"
      ],
      "execution_count": 7,
      "outputs": [
        {
          "output_type": "stream",
          "name": "stdout",
          "text": [
            "+--------------+-----------+-------------+-----------+----+-----------------+\n",
            "|     review_id|star_rating|helpful_votes|total_votes|vine|verified_purchase|\n",
            "+--------------+-----------+-------------+-----------+----+-----------------+\n",
            "| RQ28TSA020Y6J|          5|           24|         31|   N|                N|\n",
            "|R25D83AEJRXUWO|          4|           18|         21|   N|                Y|\n",
            "|R35OW0SJPJWAHO|          1|           12|        162|   N|                Y|\n",
            "| RAP2ETU511BOI|          1|            5|         99|   N|                Y|\n",
            "|R1S9O5CCTD61ZD|          1|           45|         71|   N|                N|\n",
            "|R1RMOCWMV8F4VH|          1|            5|         21|   N|                Y|\n",
            "|R351KVE3VO78W9|          3|           36|         42|   N|                Y|\n",
            "| R4LANIHO6EXAH|          4|           35|         35|   N|                Y|\n",
            "|R3V26MZUOWAUA4|          3|           35|         45|   N|                Y|\n",
            "|R38OLNY5GR1PW6|          5|           44|         44|   N|                Y|\n",
            "|R2GK7RJNIAREIT|          1|           30|         32|   N|                Y|\n",
            "|R2OWRP6FXXECMK|          1|           42|         44|   N|                Y|\n",
            "|R260E9JPZZZ01Q|          2|           10|         27|   N|                N|\n",
            "| ROR2FE6Y8EZYG|          5|           19|         22|   N|                Y|\n",
            "|R3LXTGRG4QSBR6|          2|            0|         20|   N|                Y|\n",
            "|R1UWNRDWUZR68D|          3|           60|         60|   N|                Y|\n",
            "| RIJYX8PG45XOB|          5|           51|         52|   N|                Y|\n",
            "|R2WPARQ94X1HCG|          1|            0|         22|   N|                Y|\n",
            "|R24PUIWP0XB411|          1|           27|         27|   N|                Y|\n",
            "| RBYFK3W84LW9F|          2|           32|         37|   N|                Y|\n",
            "+--------------+-----------+-------------+-----------+----+-----------------+\n",
            "only showing top 20 rows\n",
            "\n"
          ]
        }
      ]
    },
    {
      "cell_type": "code",
      "metadata": {
        "colab": {
          "base_uri": "https://localhost:8080/"
        },
        "id": "wv6-gEqPPxzF",
        "outputId": "21740102-4508-4bb2-b307-1197f6a2e208"
      },
      "source": [
        "# Step 2: Create DF to retrieve all the rows where the number of helpful_votes divided by total_votes is equal to or greater than 50%\n",
        "vine_df_helpful = vine_df_filtered.filter((vine_df_filtered[\"helpful_votes\"])/(vine_df_filtered[\"total_votes\"]) >= 0.50)\n",
        "vine_df_helpful.show()"
      ],
      "execution_count": 9,
      "outputs": [
        {
          "output_type": "stream",
          "name": "stdout",
          "text": [
            "+--------------+-----------+-------------+-----------+----+-----------------+\n",
            "|     review_id|star_rating|helpful_votes|total_votes|vine|verified_purchase|\n",
            "+--------------+-----------+-------------+-----------+----+-----------------+\n",
            "| RQ28TSA020Y6J|          5|           24|         31|   N|                N|\n",
            "|R25D83AEJRXUWO|          4|           18|         21|   N|                Y|\n",
            "|R1S9O5CCTD61ZD|          1|           45|         71|   N|                N|\n",
            "|R351KVE3VO78W9|          3|           36|         42|   N|                Y|\n",
            "| R4LANIHO6EXAH|          4|           35|         35|   N|                Y|\n",
            "|R3V26MZUOWAUA4|          3|           35|         45|   N|                Y|\n",
            "|R38OLNY5GR1PW6|          5|           44|         44|   N|                Y|\n",
            "|R2GK7RJNIAREIT|          1|           30|         32|   N|                Y|\n",
            "|R2OWRP6FXXECMK|          1|           42|         44|   N|                Y|\n",
            "| ROR2FE6Y8EZYG|          5|           19|         22|   N|                Y|\n",
            "|R1UWNRDWUZR68D|          3|           60|         60|   N|                Y|\n",
            "| RIJYX8PG45XOB|          5|           51|         52|   N|                Y|\n",
            "|R24PUIWP0XB411|          1|           27|         27|   N|                Y|\n",
            "| RBYFK3W84LW9F|          2|           32|         37|   N|                Y|\n",
            "| RT880ROJ1I4Z5|          5|           22|         31|   N|                N|\n",
            "|R2ICLUNZ6A5DXB|          1|           16|         23|   N|                Y|\n",
            "|R3H11HIP4SCL9V|          5|           31|         33|   N|                Y|\n",
            "| RPG85MPSR10JG|          1|           23|         26|   N|                Y|\n",
            "|R2UAVRDG3AUF3K|          5|           14|         21|   N|                N|\n",
            "|R2CEZU1K5CVLRL|          1|           17|         22|   N|                Y|\n",
            "+--------------+-----------+-------------+-----------+----+-----------------+\n",
            "only showing top 20 rows\n",
            "\n"
          ]
        }
      ]
    },
    {
      "cell_type": "code",
      "metadata": {
        "colab": {
          "base_uri": "https://localhost:8080/"
        },
        "id": "VVqOBqOPRFQ9",
        "outputId": "e9668322-0d2d-4289-b410-cc4afe920d60"
      },
      "source": [
        "# Step 3: create a new DataFrame or table that retrieves all the rows where a review was written as part of the Vine program (paid), vine == 'Y'.\n",
        "vine_df_yes = vine_df_helpful.filter(vine_df_helpful[\"vine\"] == \"Y\")\n",
        "vine_df_yes.show()"
      ],
      "execution_count": 11,
      "outputs": [
        {
          "output_type": "stream",
          "name": "stdout",
          "text": [
            "+--------------+-----------+-------------+-----------+----+-----------------+\n",
            "|     review_id|star_rating|helpful_votes|total_votes|vine|verified_purchase|\n",
            "+--------------+-----------+-------------+-----------+----+-----------------+\n",
            "|R3J2DPYUH6453D|          5|          136|        153|   Y|                N|\n",
            "|R25QTFLERWK6SJ|          3|          852|        956|   Y|                N|\n",
            "|R1BG71K9B61LI1|          4|           39|         39|   Y|                N|\n",
            "| R8WGX426U56E0|          5|           19|         21|   Y|                N|\n",
            "| R614TCIDD36LE|          4|          131|        147|   Y|                N|\n",
            "|R28X5K1OZBQSBK|          5|           25|         28|   Y|                N|\n",
            "|R2CUDWKAUWGHIT|          5|           19|         24|   Y|                N|\n",
            "| R886ADSI1HBU5|          5|           88|         97|   Y|                N|\n",
            "|R3TTJTAND1CCSV|          5|           21|         23|   Y|                N|\n",
            "|R1W39WXYWNFJBG|          5|           32|         35|   Y|                N|\n",
            "|R18WUOSN0TQD9X|          4|           25|         26|   Y|                N|\n",
            "|R2UGZFCPGAI6OP|          5|           19|         21|   Y|                N|\n",
            "| R7Y17L4FLYYXN|          4|           23|         30|   Y|                N|\n",
            "|R1YEAR1J3MEI3I|          2|          143|        159|   Y|                N|\n",
            "|R1FI3ZKOA0RMR9|          5|          145|        164|   Y|                N|\n",
            "| RFZQEATC76JDP|          3|           17|         22|   Y|                N|\n",
            "|R1LDVLZ6TI5MSX|          3|           18|         27|   Y|                N|\n",
            "|R3GNG9SISW41OZ|          5|          143|        153|   Y|                N|\n",
            "| RSDDNABYLRGA1|          3|           60|         71|   Y|                N|\n",
            "|R2YKR6HFL47R8L|          5|           26|         35|   Y|                N|\n",
            "+--------------+-----------+-------------+-----------+----+-----------------+\n",
            "only showing top 20 rows\n",
            "\n"
          ]
        }
      ]
    },
    {
      "cell_type": "code",
      "metadata": {
        "colab": {
          "base_uri": "https://localhost:8080/"
        },
        "id": "QHURZksWRud9",
        "outputId": "c1c30076-ea47-4167-e8db-b70077d6b7d6"
      },
      "source": [
        "# Step 4: create DataFrame limited to vine == \"N\"\n",
        "vine_df_no = vine_df_helpful.filter(vine_df_helpful[\"vine\"] == \"N\")\n",
        "vine_df_no.show()"
      ],
      "execution_count": 12,
      "outputs": [
        {
          "output_type": "stream",
          "name": "stdout",
          "text": [
            "+--------------+-----------+-------------+-----------+----+-----------------+\n",
            "|     review_id|star_rating|helpful_votes|total_votes|vine|verified_purchase|\n",
            "+--------------+-----------+-------------+-----------+----+-----------------+\n",
            "| RQ28TSA020Y6J|          5|           24|         31|   N|                N|\n",
            "|R25D83AEJRXUWO|          4|           18|         21|   N|                Y|\n",
            "|R1S9O5CCTD61ZD|          1|           45|         71|   N|                N|\n",
            "|R351KVE3VO78W9|          3|           36|         42|   N|                Y|\n",
            "| R4LANIHO6EXAH|          4|           35|         35|   N|                Y|\n",
            "|R3V26MZUOWAUA4|          3|           35|         45|   N|                Y|\n",
            "|R38OLNY5GR1PW6|          5|           44|         44|   N|                Y|\n",
            "|R2GK7RJNIAREIT|          1|           30|         32|   N|                Y|\n",
            "|R2OWRP6FXXECMK|          1|           42|         44|   N|                Y|\n",
            "| ROR2FE6Y8EZYG|          5|           19|         22|   N|                Y|\n",
            "|R1UWNRDWUZR68D|          3|           60|         60|   N|                Y|\n",
            "| RIJYX8PG45XOB|          5|           51|         52|   N|                Y|\n",
            "|R24PUIWP0XB411|          1|           27|         27|   N|                Y|\n",
            "| RBYFK3W84LW9F|          2|           32|         37|   N|                Y|\n",
            "| RT880ROJ1I4Z5|          5|           22|         31|   N|                N|\n",
            "|R2ICLUNZ6A5DXB|          1|           16|         23|   N|                Y|\n",
            "|R3H11HIP4SCL9V|          5|           31|         33|   N|                Y|\n",
            "| RPG85MPSR10JG|          1|           23|         26|   N|                Y|\n",
            "|R2UAVRDG3AUF3K|          5|           14|         21|   N|                N|\n",
            "|R2CEZU1K5CVLRL|          1|           17|         22|   N|                Y|\n",
            "+--------------+-----------+-------------+-----------+----+-----------------+\n",
            "only showing top 20 rows\n",
            "\n"
          ]
        }
      ]
    },
    {
      "cell_type": "code",
      "metadata": {
        "colab": {
          "base_uri": "https://localhost:8080/"
        },
        "id": "d9BvEhbqSEL9",
        "outputId": "367df983-80d8-4fee-f921-c3d43be57095"
      },
      "source": [
        "# Step 5: Determine summary statistics\n",
        "vine_yes_total = vine_df_yes.count()\n",
        "vine_yes_fivestar = vine_df_yes.filter(\"star_rating=5\").count()\n",
        "vine_yes_percentage = (vine_yes_fivestar / vine_yes_total) * 100\n",
        "\n",
        "vine_no_total = vine_df_no.count()\n",
        "vine_no_fivestar = vine_df_no.filter(\"star_rating=5\").count()\n",
        "vine_no_percentage = (vine_no_fivestar / vine_no_total) * 100\n",
        "\n",
        "summary_df = spark.createDataFrame([(\"Yes\", vine_yes_total, vine_yes_fivestar, vine_yes_percentage), (\"No\", vine_no_total, vine_no_fivestar, vine_no_percentage)], [\"Vine Review\", \"Total Reviews\", \"Five Star Reviews\", \"% Five Star\"])\n",
        "\n",
        "summary_df.show()"
      ],
      "execution_count": 21,
      "outputs": [
        {
          "output_type": "stream",
          "name": "stdout",
          "text": [
            "+-----------+-------------+-----------------+------------------+\n",
            "|Vine Review|Total Reviews|Five Star Reviews|       % Five Star|\n",
            "+-----------+-------------+-----------------+------------------+\n",
            "|        Yes|         1775|              783| 44.11267605633803|\n",
            "|         No|        77385|            35949|46.454739290560184|\n",
            "+-----------+-------------+-----------------+------------------+\n",
            "\n"
          ]
        }
      ]
    }
  ]
}